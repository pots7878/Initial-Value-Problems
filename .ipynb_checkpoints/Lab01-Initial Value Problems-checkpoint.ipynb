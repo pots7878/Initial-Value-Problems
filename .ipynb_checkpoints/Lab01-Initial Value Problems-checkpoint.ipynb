{
 "cells": [
  {
   "cell_type": "markdown",
   "metadata": {},
   "source": [
    "# Lab01: Initial Value Problems\n",
    "Due date: 11:59pm September 10, 2019<br>\n",
    "Connor Poetzinger"
   ]
  },
  {
   "cell_type": "markdown",
   "metadata": {},
   "source": [
    "###  1. Newton's Method"
   ]
  },
  {
   "cell_type": "markdown",
   "metadata": {},
   "source": [
    "Create a function *Newtons_Method* to find the root(s) of a function *f(x)*. Start from an initial guess *x0*, to successively better the approximation of the root. If *f(x)* has continuous derivatives, Newton's method will converge to x<sup>*</sup> if our initial guess is reasonable."
   ]
  },
  {
   "cell_type": "markdown",
   "metadata": {},
   "source": [
    "\\begin{equation*}\n",
    "x_{k+1} = x_k - \\frac{f(x_k)}{f^{'}(x_k)}\n",
    "\\end{equation*}"
   ]
  },
  {
   "cell_type": "code",
   "execution_count": 170,
   "metadata": {},
   "outputs": [],
   "source": [
    "import numpy as np\n",
    "\n",
    "def newtons_method(maxIter, tol, f, f_prime, x0):\n",
    "    \"\"\"\n",
    "    Input: \n",
    "        maxIter - maximum number of iterations\n",
    "        tol - telerance used for stopping criteria \n",
    "        f - the function handle for the function f(x)\n",
    "        f_prime - the function handle for the function's derivative\n",
    "        x0 - the initial point \n",
    "    Output: \n",
    "        x1 - approximations \n",
    "        iter - numbre of iterations \n",
    "    \"\"\"\n",
    "    #begin counting iterations \n",
    "    iter = 0\n",
    "    #iterate while the iteration counter is less than your iteration cap and \n",
    "    #the function value is not close to 0\n",
    "    while (iter < maxIter and abs(f(x0)) > tol):\n",
    "        #Newton's method definition \n",
    "        x1 = x0 - f(x0)/f_prime(x0)\n",
    "        #update counter \n",
    "        iter += 1\n",
    "        #disrupt loop if error is less than your tolerance \n",
    "        if (abs(x1 - x0) < tol):\n",
    "            break\n",
    "        #update position\n",
    "        else:\n",
    "            x0 = x1\n",
    "    return x1, iter\n",
    "\n",
    "def f(x):\n",
    "    \"\"\"\n",
    "    Function definition for f(x)\n",
    "    \"\"\"\n",
    "    #return f(x) = x^2 - 1\n",
    "    return x**2 - 1\n",
    "\n",
    "def f_prime(x):\n",
    "    \"\"\"\n",
    "    Function definition for the derivative of f(x)\n",
    "    \"\"\"\n",
    "    #return derivative of f(x) = x^2 - 1 --> 2x\n",
    "    return 2*x"
   ]
  },
  {
   "cell_type": "code",
   "execution_count": 171,
   "metadata": {},
   "outputs": [
    {
     "data": {
      "text/plain": [
       "(1.000000000000001, 5)"
      ]
     },
     "execution_count": 171,
     "metadata": {},
     "output_type": "execute_result"
    }
   ],
   "source": [
    "newtons_method(6, 1.0*10**-8, f, f_prime, 2)"
   ]
  },
  {
   "cell_type": "markdown",
   "metadata": {},
   "source": [
    "### 2. Lagrange Interpolation"
   ]
  },
  {
   "cell_type": "markdown",
   "metadata": {},
   "source": [
    "Create a function *lagrange_interp* to find the value of the Lagrange Interpolation polynomial evaluated at a point *x*."
   ]
  },
  {
   "cell_type": "markdown",
   "metadata": {},
   "source": [
    "### 3. Euler Methods"
   ]
  },
  {
   "cell_type": "markdown",
   "metadata": {},
   "source": [
    "##### 3.1 Forward Euler"
   ]
  },
  {
   "cell_type": "markdown",
   "metadata": {},
   "source": [
    "Create a function, *Forward_Euler* to find an approximate solution *Y<sup>n</sup>*, at discrete time steps."
   ]
  },
  {
   "cell_type": "code",
   "execution_count": 374,
   "metadata": {},
   "outputs": [],
   "source": [
    "import numpy as np \n",
    "\n",
    "def forward_euler(y0, t0, tf, dt, f):\n",
    "    \"\"\"\n",
    "    Input:\n",
    "        y0 - initial value when t = 0 \n",
    "        t0 - initial time value\n",
    "        tf - findal time \n",
    "        dt - time step \n",
    "        f - function f(y,t)\n",
    "    Output:\n",
    "        y - vector of approximate solutions\n",
    "        dt - vector of time steps \n",
    "        \n",
    "    \"\"\"\n",
    "    #Number of steps \n",
    "    n = len(dt) + 1\n",
    "    #initialize y to be a vector of size n\n",
    "    y = np.zeros([n,], dtype=object)\n",
    "    #assign initial value of y0 \n",
    "    y[0] = y0 \n",
    "    for i in range(1, n):\n",
    "        #apply euler's method\n",
    "        y = y[i-1] + dt * f(dt[i - 1], y[i - 1])\n",
    "    return dt, y\n",
    "\n",
    "def f(t, y):\n",
    "    return -(t * (np.exp((-t**2)/2)))\n",
    "\n",
    "def exact(t):\n",
    "    return np.exp((-t**2)/2)"
   ]
  },
  {
   "cell_type": "code",
   "execution_count": 375,
   "metadata": {},
   "outputs": [
    {
     "name": "stdout",
     "output_type": "stream",
     "text": [
      "(array([0.25    , 0.125   , 0.0625  , 0.03125 , 0.015625]), array([0.95561663, 0.95756952, 0.95854596, 0.95903418, 0.95927829]))\n"
     ]
    },
    {
     "data": {
      "text/plain": [
       "array([0.96923323, 0.99221794, 0.99804878, 0.99951184, 0.99987794])"
      ]
     },
     "execution_count": 375,
     "metadata": {},
     "output_type": "execute_result"
    }
   ],
   "source": [
    "# initial values \n",
    "dt = np.asarray([1/(2**x) for x in range(2,7)])\n",
    "y0 = 1.0\n",
    "t0 = 0.0\n",
    "tf = 1.0\n",
    "print(forward_euler(y0, t0, tf, dt, f))\n",
    "exact(dt)"
   ]
  }
 ],
 "metadata": {
  "kernelspec": {
   "display_name": "Python 3",
   "language": "python",
   "name": "python3"
  },
  "language_info": {
   "codemirror_mode": {
    "name": "ipython",
    "version": 3
   },
   "file_extension": ".py",
   "mimetype": "text/x-python",
   "name": "python",
   "nbconvert_exporter": "python",
   "pygments_lexer": "ipython3",
   "version": "3.7.1"
  }
 },
 "nbformat": 4,
 "nbformat_minor": 2
}
