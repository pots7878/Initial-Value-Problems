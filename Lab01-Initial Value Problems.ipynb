{
 "cells": [
  {
   "cell_type": "markdown",
   "metadata": {},
   "source": [
    "# Lab01: Initial Value Problems\n",
    "Due date: 11:59pm September 10, 2019<br>\n",
    "Connor Poetzinger"
   ]
  },
  {
   "cell_type": "markdown",
   "metadata": {},
   "source": [
    "###  1. Newton's Method"
   ]
  },
  {
   "cell_type": "markdown",
   "metadata": {},
   "source": [
    "Create a function *Newtons_Method* to find the root(s) of a function *f(x)*. Start from an initial guess *x0*, to successively better the approximation of the root. If *f(x)* has continuous derivatives, Newton's method will converge to x<sup>*</sup> if our initial guess is reasonable."
   ]
  },
  {
   "cell_type": "markdown",
   "metadata": {},
   "source": [
    "\\begin{equation*}\n",
    "x_{k+1} = x_k - \\frac{f(x_k)}{f^{'}(x_k)}\n",
    "\\end{equation*}"
   ]
  },
  {
   "cell_type": "code",
   "execution_count": 238,
   "metadata": {},
   "outputs": [],
   "source": [
    "import numpy as np\n",
    "\n",
    "def newtons_method(maxIter, tol, f, f_prime, x0):\n",
    "    \"\"\"\n",
    "    Implementation of Newton's Method\n",
    "    Input: \n",
    "        maxIter - maximum number of iterations\n",
    "        tol - telerance used for stopping criteria \n",
    "        f - the function handle for the function f(x)\n",
    "        f_prime - the function handle for the function's derivative\n",
    "        x0 - the initial point \n",
    "    Output: \n",
    "        x1 - approximations \n",
    "        iter - numbre of iterations \n",
    "    \"\"\"\n",
    "    #begin counting iterations \n",
    "    iter = 0\n",
    "    #iterate while the iteration counter is less than your iteration cap and \n",
    "    #the function value is not close to 0\n",
    "    while (iter < maxIter and abs(f(x0)) > tol):\n",
    "        #Newton's method definition \n",
    "        x1 = x0 - f(x0)/f_prime(x0)\n",
    "        #update counter \n",
    "        iter += 1\n",
    "        #disrupt loop if error is less than your tolerance \n",
    "        if (abs(x1 - x0) < tol):\n",
    "            break\n",
    "        #update position\n",
    "        else:\n",
    "            x0 = x1\n",
    "    return x1, iter\n",
    "\n",
    "def f(x):\n",
    "    \"\"\"\n",
    "    Function definition for f(x)\n",
    "    \"\"\"\n",
    "    #return f(x) = x^2 - 1\n",
    "    return x**2 - 1\n",
    "\n",
    "def f_prime(x):\n",
    "    \"\"\"\n",
    "    Function definition for the derivative of f(x)\n",
    "    \"\"\"\n",
    "    #return derivative of f(x) = x^2 - 1 --> 2x\n",
    "    return 2*x"
   ]
  },
  {
   "cell_type": "code",
   "execution_count": 239,
   "metadata": {},
   "outputs": [
    {
     "data": {
      "text/plain": [
       "(1.000000000000001, 5)"
      ]
     },
     "execution_count": 239,
     "metadata": {},
     "output_type": "execute_result"
    }
   ],
   "source": [
    "newtons_method(6, 1.0*10**-8, f, f_prime, 2)"
   ]
  },
  {
   "cell_type": "markdown",
   "metadata": {},
   "source": [
    "### 2. Lagrange Interpolation"
   ]
  },
  {
   "cell_type": "markdown",
   "metadata": {},
   "source": [
    "Create a function *lagrange_interp* to find the value of the Lagrange Interpolation polynomial evaluated at a point *x*."
   ]
  },
  {
   "cell_type": "code",
   "execution_count": 13,
   "metadata": {
    "pixiedust": {
     "displayParams": {}
    },
    "scrolled": true
   },
   "outputs": [],
   "source": [
    "import numpy as np\n",
    "\n",
    "def lagrange_interp(x, xvals, yvals):\n",
    "    n = len(xvals) - 1\n",
    "    lagrange_poly = np.array([lagrange_basis(x, i, xvals) for i in range(n + 1)])\n",
    "    #y = np.dot(yvals, lagrange_poly)\n",
    "    return lagrange_poly\n",
    "\n",
    "def lagrange_basis(x, i, xvals):\n",
    "    n = len(xvals) - 1\n",
    "    y = 1.0\n",
    "    for j in range(n + 1):\n",
    "        if i != j:\n",
    "            y *= (x - xvals[j]) / (xvals[i] - xvals[j])\n",
    "    return y \n",
    "\n",
    "def func(x):\n",
    "    return 1/(1 + 25*x**2)"
   ]
  },
  {
   "cell_type": "code",
   "execution_count": 24,
   "metadata": {},
   "outputs": [],
   "source": [
    "#500 equispaced target points in [-1, 1]\n",
    "xvals = np.linspace(-1, 1, 500)\n",
    "x = np.array([-1, 1])\n",
    "#func(xvals)"
   ]
  },
  {
   "cell_type": "code",
   "execution_count": 23,
   "metadata": {},
   "outputs": [
    {
     "data": {
      "text/plain": [
       "[<matplotlib.lines.Line2D at 0xb90d090>]"
      ]
     },
     "execution_count": 23,
     "metadata": {},
     "output_type": "execute_result"
    },
    {
     "data": {
      "image/png": "[encoded data removed]",
      "text/plain": [
       "<Figure size 432x288 with 1 Axes>"
      ]
     },
     "metadata": {
      "needs_background": "light"
     },
     "output_type": "display_data"
    }
   ],
   "source": [
    "import matplotlib.pyplot as plt \n",
    "plt.plot(xvals, func(xvals), 'ro')"
   ]
  },
  {
   "cell_type": "markdown",
   "metadata": {},
   "source": [
    "### 3. Euler Methods"
   ]
  },
  {
   "cell_type": "markdown",
   "metadata": {},
   "source": [
    "##### 3.1 Forward Euler"
   ]
  },
  {
   "cell_type": "markdown",
   "metadata": {},
   "source": [
    "Create a function, *Forward_Euler* to find an approximate solution *Y<sup>n</sup>*, at discrete time steps."
   ]
  },
  {
   "cell_type": "code",
   "execution_count": 240,
   "metadata": {},
   "outputs": [],
   "source": [
    "#import external modules\n",
    "import numpy as np\n",
    "import matplotlib.pyplot as plt\n",
    "\n",
    "# def forward_euler(y0, t0, tf, dt, f):\n",
    "def forward_euler(f, t, y0, dt):\n",
    "    \"\"\"\n",
    "    Implementation of the Forward Euler method \n",
    "    y[i+1] = y[i] + h * f(x[i], y[i]) where f(x[i], y[i]) is the differntial \n",
    "    equation evaluated at x[i] and y[i]\n",
    "    Input:\n",
    "        f - function f(y,t)\n",
    "        t - data structure is a numpy array with t[0] initial time and t[-1] final time\n",
    "        y0 - data structure is a numpy array with initial value 1.0\n",
    "        dt - data structure is a numpy array time step\n",
    "    Output:\n",
    "        x - vector of time steps \n",
    "        y - vector of approximate solutions\n",
    "    \"\"\"\n",
    "    #iterate through eatch delta t \n",
    "    for h in dt:\n",
    "        #return evenly spaced values between 0.0 and 1.0+h with itervals of h\n",
    "        #this creates time intervals  \n",
    "        x = np.arange(t[0], t[-1]+h, h)\n",
    "        #initialize temp array to store solution for each dt when t = 1\n",
    "        temp = np.empty([1, len(x)])\n",
    "        #initialize y by returning a numpy array with shape 101, filled with zeros \n",
    "        #this preallocation is necessary for time reasons and to add values into array\n",
    "        y = np.zeros(len(x+1))\n",
    "        #assign time at position 0 to starting time (0.0) and set approximation at time \n",
    "        #step 0 = 1.0 which is the initial value given \n",
    "        x[0], y[0] = t[0] ,y0\n",
    "        #apply Euler's method \n",
    "        for i in range(1, len(x)):\n",
    "            y[i] = y[i-1] + h * f(x[i - 1], y[i - 1])\n",
    "            \n",
    "#         #enter conditional when time = 1\n",
    "#         if x.any() == 1:\n",
    "#             sols = np.append(temp, y)\n",
    "   \n",
    "    \n",
    "#     err = lambda q,p: np.sum(np.abs(q - p)/np.abs(q))\n",
    "#     err_res = err(exact(ts), sols)\n",
    "            \n",
    "                  \n",
    "    #create plot\n",
    "    plt.plot(x, y, label=\"Approximation\")\n",
    "    plt.plot(x, exact(x), label=\"Exact\")\n",
    "    plt.title(\"Euler's Method Example, N =\"+str(len(x)))\n",
    "    plt.xlabel('t')\n",
    "    plt.ylabel('y(t)')\n",
    "    plt.legend()\n",
    "    plt.grid()\n",
    "    \n",
    "    #return time (x) and approximations (y)\n",
    "    return x, y\n",
    "\n",
    "\n",
    "def f(t, y):\n",
    "    \"\"\" \n",
    "    IVP function y'(t) to approximate the derivative\n",
    "    \"\"\"\n",
    "    return -(t * (np.exp((-t**2)/2)))\n",
    "\n",
    "def exact(t):\n",
    "    \"\"\"\n",
    "    IVP function that provides the exact solution  to y(t)\n",
    "    \"\"\"\n",
    "    return np.exp((-t**2)/2)"
   ]
  },
  {
   "cell_type": "code",
   "execution_count": 241,
   "metadata": {},
   "outputs": [
    {
     "data": {
      "image/png": "[encoded data removed]",
      "text/plain": [
       "<Figure size 432x288 with 1 Axes>"
      ]
     },
     "metadata": {
      "needs_background": "light"
     },
     "output_type": "display_data"
    }
   ],
   "source": [
    "# initial values \n",
    "#dt = 1/4\n",
    "dt = np.asarray([1/(2**x) for x in range(2,7)])\n",
    "t = np.array([0.0, 1.0])\n",
    "y0 = np.array([1.0])\n",
    "ts, ys = forward_euler(f, t, y0, dt)\n",
    "\n",
    "err = lambda x,y: np.sum(np.abs(x - y)/np.abs(x))\n",
    "err_res = err(exact(ts), ys)"
   ]
  },
  {
   "cell_type": "markdown",
   "metadata": {},
   "source": [
    "#### 3.2 Backward Euler"
   ]
  }
 ],
 "metadata": {
  "kernelspec": {
   "display_name": "Python 3",
   "language": "python",
   "name": "python3"
  },
  "language_info": {
   "codemirror_mode": {
    "name": "ipython",
    "version": 3
   },
   "file_extension": ".py",
   "mimetype": "text/x-python",
   "name": "python",
   "nbconvert_exporter": "python",
   "pygments_lexer": "ipython3",
   "version": "3.7.0"
  }
 },
 "nbformat": 4,
 "nbformat_minor": 2
}
